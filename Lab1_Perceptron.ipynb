{
 "cells": [
  {
   "cell_type": "markdown",
   "metadata": {},
   "source": [
    "# Lab 1\n",
    "### Introduction to Machine Learning, 2021-2022 period 4\n",
    "\n",
    "Lab1 is meant to help you get oriented to the programming part of the course, by implementing a simple perceptron."
   ]
  },
  {
   "cell_type": "markdown",
   "metadata": {},
   "source": [
    "## A brief introduction to Python\n",
    "\n",
    "This is a Machine Learning course, and not a programming course. However, you need to program in order to run Machine Learning algorithms. In this course, we use Python, one of the most popular programming languages today. It was released for the first time in 1990, but gained extreme popularity in the last 15 years, hand in hand with the increasing importance of the world wide web, big data and data science. We use **Python 3** in the course to make full use of the features of the latest generation.\n",
    "\n",
    "There is a lot of free literature about Python available that you can use for the course in addition to the lecture notes provided. Especially if you have difficulties understanding a particular concept, it is often a good idea to look at alternative explanations. Here are some links to useful Python online books:\n",
    "\n",
    "* https://runestone.academy/ns/books/published/pythonds/index.html (“Problem Solving with Algorithms and Data Structures using Python”)\n",
    "* https://python.swaroopch.com (“A Byte of Python”, especially for beginners)\n",
    "* http://greenteapress.com/wp/think-python-2e/ (“Think Python”, also targeted at beginners)\n",
    "* https://docs.python.org/3/tutorial/index.html (the official Python tutorial)\n",
    "\n",
    "During the course we will work with the [Anaconda Python Data Science Platform](https://www.anaconda.com/); in particular we will use the Spyder Integrated Development Environment (IDE) and Jupyter notebooks. Below are instructions for installation and first steps with these environments."
   ]
  },
  {
   "cell_type": "markdown",
   "metadata": {},
   "source": [
    "## Python setup\n",
    "\n",
    "In this course we use Python 3, and we do most of the programming in Jupyter notebooks (this lab is written in a Jupyter notebook).\n",
    "\n",
    "**Easy installation** The easiest (and recommended) way to get the required software is to install Anaconda. Anaconda is a free and open source distribution of Python and some other programming languages used in scientific applications. It runs on all major operating systems and provides a number of very useful tools for Python programming.\n",
    "Here is what you have to do to get started:\n",
    "\n",
    "1. Go to https://docs.anaconda.com/anaconda/install/ and follow the installation instructions for your operating system. \n",
    "\n",
    "2. Go to https://docs.anaconda.com/anaconda/user-guide/getting-started/#open-nav-lin and follow the instructions how to start Spyder.\n",
    "\n",
    "**Manual installation** You can also choose to install Python manually on your computer. How to do this depends on your operating system:\n",
    "\n",
    "* Windows: https://www.python.org/downloads/windows/\n",
    "\n",
    "* Mac OS X: install Python via [Fink](https://www.finkproject.org/) or [Homebrew](https://brew.sh/)\n",
    "\n",
    "* Linux: install Python via [Apt](https://wiki.debian.org/Apt) or whichever package manager corresponds to your distribution\n",
    "\n",
    "If you go for the manual option, make sure that you have numpy and matplotlib installed. You typically do this using [Pip](https://pypi.org/project/pip/). Note that most of the instructions written in the labs for this course assume you are using Anaconda.\n",
    "\n",
    "**Last-resort option** If you have (unresolvable) trouble with the installation of Anaconda on your device, you can use it also via UU’s MyWorkplace (https://myworkplace.uu.nl/). The app that you need to start is called “Spyder Anaconda3”."
   ]
  },
  {
   "cell_type": "markdown",
   "metadata": {},
   "source": [
    "## Python versus C\\#\n",
    "\n",
    "You probably have taken the course \"Modelleren en programmeren\", where you have learned C#. It might be useful to get a quick overview of how Python differs from C#. Let's look at a simple program in C#, which asks the user to enter their name and then prints out a message:\n",
    "\n",
    "<img src=\"csharp.png\" alt=\"drawing\" width=\"600\"/>\n",
    "\n",
    "Note that we need about 10 lines of code to do this. Let's write the same program in Python:"
   ]
  },
  {
   "cell_type": "code",
   "execution_count": null,
   "metadata": {},
   "outputs": [],
   "source": [
    "user_name = input()\n",
    "print(f'Hello, {user_name}. How are you today?')"
   ]
  },
  {
   "cell_type": "markdown",
   "metadata": {},
   "source": [
    "Notice that we accomplished the same in 2 lines of code. That is one of the characteristics of Python: it is very compact. Furthermore, unlike in C#, we can write code without encapsulating it in a class. Finally, as we will see further, scope in Python is not determined by curly brackets, but rather by indentation. The C# code shown above contains three lines within the scope of the `Main` function, and they are all indented differently; this would cause errors in Python. Here is a function with correct indentation:"
   ]
  },
  {
   "cell_type": "code",
   "execution_count": null,
   "metadata": {},
   "outputs": [],
   "source": [
    "def print_message(name):\n",
    "    print(f'Hello, {name}. How are you today?')\n",
    "    \n",
    "user_name = input()\n",
    "print_message(user_name)"
   ]
  },
  {
   "cell_type": "markdown",
   "metadata": {},
   "source": [
    "The `using` keyword from C# roughly equates to `import` in Python, which we will use in this course. Other differences between Python and C#:\n",
    "\n",
    "* variable types do not have to be declared (see `user_name` above) in Python\n",
    "\n",
    "* C# is developed by Microsoft, Python is open-source\n",
    "\n",
    "* C# is compiled, Python is interpreted (you don't compile programs before running)\n",
    "\n",
    "* Python has a huge set of pre-packaged libraries\n",
    "\n",
    "Note that, as of recent Python versions, you are allowed to specified the expected types of the arguments of a function, as well as the return type. This is optional, but can sometimes make a function easier to read. For example:"
   ]
  },
  {
   "cell_type": "code",
   "execution_count": null,
   "metadata": {},
   "outputs": [],
   "source": [
    "def concatenate_strings(word1: str, word2: str) -> str:\n",
    "    return word1 + word2\n",
    "\n",
    "# As opposed to:\n",
    "\n",
    "def concatenate_strings(word1, word2):\n",
    "    return word1 + word2"
   ]
  },
  {
   "cell_type": "markdown",
   "metadata": {},
   "source": [
    "## Starting the notebook\n",
    "\n",
    "Download the notebook from Blackboard. Use Anaconda Navigator to open Jupyter Notebooks, then open this notebook. Your web browser will open.\n",
    "\n",
    "<img src=\"jupyter_home.png\" alt=\"drawing\" width=\"600\"/>\n",
    "\n",
    "Navigate to the location where you saved your notebook for this lab, and click on it. This notebook will open in the same browser."
   ]
  },
  {
   "cell_type": "markdown",
   "metadata": {},
   "source": [
    "## Perceptron\n",
    "\n",
    "Consider the perceptron that you have seen in class, in two dimensions \n",
    "\n",
    "$h(x) = sign(w^Tx)$ \n",
    "\n",
    "where \n",
    "\n",
    "$w=[w_o, w_1, w_2]^T$ \n",
    "\n",
    "and \n",
    "\n",
    "$x = [1, x_1, x_2]^T$ \n",
    "\n",
    "(Technically, $x$ has three dimensions, but we call this a two-dimensional perceptron because the first dimension is fixed to 1).\n",
    "\n",
    "In the following sections, you will complete a series of functions and code snippets to work with a perceptron and the perceptron learning algorithm. Fill in the parts labeled \"FILL IN\".\n",
    "\n",
    "In Python, a `list` is a mutable collection of objects arranged in a sequence. A collection of datapoints can naturally be expressed as a list. A `tuple` is an immutable collection of objects arranged in a sequence; a tuple is an immutable list. The coordinates of a datapoint can naturally be expressed as a tuple."
   ]
  },
  {
   "cell_type": "markdown",
   "metadata": {
    "tags": []
   },
   "source": [
    "**1.** Implement the *perceptron learning algorithm* (PLA) (section 1.1.2 in the book) in Python"
   ]
  },
  {
   "cell_type": "code",
   "execution_count": 7,
   "metadata": {},
   "outputs": [],
   "source": [
    "def sign(val: float) -> int:\n",
    "    if val > 0:\n",
    "        return 1\n",
    "    else:\n",
    "        return -1\n",
    "    \n",
    "def initialize_weights(d: int) -> tuple:\n",
    "    # This initializes a d-dimensional tuple with 0 in all the dimensions\n",
    "    return tuple([0 for _ in range(d)])\n",
    "\n",
    "def perceptron(x: tuple, w: tuple) -> int:\n",
    "    \"\"\"\n",
    "    x is a tuple of coordinates; the 0th element is 1. For example, x could be (1, -3.43, 0.75)\n",
    "    w is a tuple of weights; the 0th element is the bias. For example, w could be (-0.83, 10.96, 1.06)\n",
    "    \n",
    "    The return value h should be a hypothesis (+1 or -1) for the datapoint x given the weights w\n",
    "    \"\"\"\n",
    "    h = 0\n",
    "    for i in range(1, len(x)):\n",
    "        h += x[i] * w[i] - w[0]\n",
    "    return sign(h)\n",
    "\n",
    "def update_weights(x_t: tuple, y_t: int, w_t: tuple) -> tuple:\n",
    "    \"\"\"\n",
    "    This is the update rule for the PLA; Eq. 1.3 in the book\n",
    "    The return value w_t_plus_1 should be the updated weights (w0, w1, w2) at iteration step t+1\n",
    "    \"\"\"\n",
    "    w_t_plus_1 = list(w_t)\n",
    "    \n",
    "    for i in range(1, len(x_t)):\n",
    "        w_t_plus_1[i] += y_t * x_t[i] - w_t[0]\n",
    "    \n",
    "    return tuple(w_t_plus_1)\n",
    "\n",
    "def learn_weights(xn: list, yn: list) -> tuple:\n",
    "    \"\"\"\n",
    "    This is the main body of the perceptron learning algorithm\n",
    "    xn is a list of datapoints, each of which is a 3-dimensional tuple containing the coordinates for that point\n",
    "    (remember the 0th coordinate is equal to 1)\n",
    "    yn is a list of labels (+1 or -1) for the datapoints\n",
    "    \n",
    "    This function should call the functions above\n",
    "    \n",
    "    The number of iterations t required for convergence should be printed to the screen before exiting\n",
    "    \n",
    "    The return value w should be a tuple containing the learned weights (w0, w1, w2)\n",
    "    \"\"\"\n",
    "    t = 0\n",
    "    w = initialize_weights(len(xn[0]))\n",
    "    #counter = 0\n",
    "    loop = True\n",
    "    \n",
    "    while loop:\n",
    "        #counter = 0\n",
    "        t += 1\n",
    "        loop = False\n",
    "        for i in range(len(yn)):\n",
    "            if perceptron(xn[i],w) != yn[i]:\n",
    "                w = update_weights(xn[i], yn[i], w)\n",
    "                loop = True\n",
    "            #else: \n",
    "                #counter += 1\n",
    "                #print(counter)\n",
    "            \n",
    "\n",
    "    print(f'Converged in {t} iterations')\n",
    "    return w"
   ]
  },
  {
   "cell_type": "markdown",
   "metadata": {},
   "source": [
    "Test your program on a toy dataset of 3 datapoints. Create these datapoints and run your program:\n",
    "\n",
    "(1, 0.5, 1.5) -> +1\n",
    "\n",
    "(1, 4.3, -0.3) -> -1\n",
    "\n",
    "(1, -3.2, 2.2) -> +1"
   ]
  },
  {
   "cell_type": "code",
   "execution_count": 8,
   "metadata": {},
   "outputs": [
    {
     "name": "stdout",
     "output_type": "stream",
     "text": [
      "Converged in 2 iterations\n",
      "(0, -3.8, 1.8)\n"
     ]
    }
   ],
   "source": [
    "x3 = [(1, 0.5, 1.5), (1, 4.3, -0.3), (1, -3.2, 2.2)]\n",
    "y3 = [1, -1, 1]\n",
    "w = learn_weights(x3, y3)\n",
    "print(w)"
   ]
  },
  {
   "cell_type": "markdown",
   "metadata": {},
   "source": [
    "**2.** Generate a linearly separable dataset in two dimensions: Choose a random \n",
    "line in the plane as the target function, where one side of the line maps \n",
    "to +1 and the other maps to -1. Choose the inputs $x_n$ ($n=20$) to be random points \n",
    "in the plane, and evaluate the target function on each $x_n$ to get the \n",
    "corresponding output $y_n$."
   ]
  },
  {
   "cell_type": "code",
   "execution_count": 9,
   "metadata": {},
   "outputs": [],
   "source": [
    "import random\n",
    "\n",
    "SLOPE, INTERCEPT = random.uniform(-10, 10), random.uniform(-10, 10)\n",
    "MAX_VAL = 100\n",
    "\n",
    "def get_random_point():\n",
    "    x1 = random.uniform(-MAX_VAL, MAX_VAL)\n",
    "    x2 = random.uniform(-MAX_VAL, MAX_VAL)\n",
    "    return (1, x1, x2)\n",
    "\n",
    "def target(x):\n",
    "    \"\"\"\n",
    "    x is a datapoint; it is expressed as a tuple of the form (1, x1, x2)\n",
    "    \"\"\"\n",
    "    if x[2] > SLOPE * x[1] + INTERCEPT:\n",
    "        return 1\n",
    "    else:\n",
    "        return -1\n",
    "    \n",
    "def generate_data(n: int) -> tuple:\n",
    "    \"\"\"\n",
    "    n is the number of datapoints you want to generate\n",
    "    The return value should be a tuple with two elements (xn, yn), where xn and yn are both lists of length n\n",
    "    \"\"\"\n",
    "    xn, yn = [], []\n",
    "    \n",
    "    for i in range(n):\n",
    "        xn.append(get_random_point())\n",
    "    for j in range(len(xn)):\n",
    "        yn.append(target(xn[j]))\n",
    "    \n",
    "    return (xn, yn)"
   ]
  },
  {
   "cell_type": "code",
   "execution_count": 10,
   "metadata": {},
   "outputs": [],
   "source": [
    "x20, y20= generate_data(20)"
   ]
  },
  {
   "cell_type": "markdown",
   "metadata": {},
   "source": [
    "**3.** Plot the examples ${(x_n, y_n)}$ as well as the target function \n",
    "(use `matplotlib`)"
   ]
  },
  {
   "cell_type": "code",
   "execution_count": 11,
   "metadata": {},
   "outputs": [
    {
     "data": {
      "image/png": "[encoded data removed]",
      "text/plain": [
       "<Figure size 432x288 with 1 Axes>"
      ]
     },
     "metadata": {
      "needs_background": "light"
     },
     "output_type": "display_data"
    }
   ],
   "source": [
    "import matplotlib.pyplot as plt\n",
    "\n",
    "def get_plot_markers(yn: list) -> list:\n",
    "    \"\"\"\n",
    "    Return a list of different markers for +1 and -1 samples\n",
    "    The return value plot_marker should be a list of length n containing markers\n",
    "    Each marker is a 1-character string\n",
    "    There should be 1 marker for +1 and 1 marker for -1\n",
    "    \"\"\"\n",
    "    plot_marker = []\n",
    "    \n",
    "    for i in range(len(yn)):\n",
    "        if int(yn[i]) == 1:\n",
    "            plot_marker.append(\"+\")\n",
    "        if int(yn[i]) == -1:\n",
    "            plot_marker.append(\"_\")\n",
    "        \n",
    "    return plot_marker\n",
    "\n",
    "def plot(xn, yn):\n",
    "    # The x axis should be the x1 axis of the data\n",
    "    # The y axis should be the x2 axis of the data\n",
    "    # The marker should be different for +1 and -1 samples\n",
    "\n",
    "    plot_x = [x[1] for x in xn]\n",
    "    plot_y = [x[2] for x in xn]\n",
    "    plot_marker = get_plot_markers(yn)\n",
    "\n",
    "    # Plot the markers of the datapoints\n",
    "    fig, ax = plt.subplots()\n",
    "    for xp, yp, m in zip(plot_x, plot_y, plot_marker):\n",
    "        ax.scatter([xp],[yp], marker=m, color='b')\n",
    "\n",
    "    # Add the random line used to generate the target function (HINT: use SLOPE and INTERCEPT)\n",
    "    y = []\n",
    "    for i in range(len(plot_x)):\n",
    "        y.append(SLOPE*plot_x[i] + INTERCEPT)\n",
    "    plt.plot(plot_x, y)\n",
    "        \n",
    "    # Add axis labels and a legend\n",
    "    plt.xlabel('x1')\n",
    "    plt.ylabel('x2')\n",
    "    plt.legend([\"Plus\"])\n",
    "    plt.xlim(-MAX_VAL, MAX_VAL)\n",
    "    plt.ylim(-MAX_VAL, MAX_VAL)\n",
    "    plt.show()\n",
    "    \n",
    "plot(x20, y20)"
   ]
  },
  {
   "cell_type": "markdown",
   "metadata": {},
   "source": [
    "**4.** Run the perceptron algorithm on the above dataset, and add the hypothesis \n",
    "to the plot. Report the number of iterations. "
   ]
  },
  {
   "cell_type": "code",
   "execution_count": 12,
   "metadata": {},
   "outputs": [
    {
     "name": "stdout",
     "output_type": "stream",
     "text": [
      "Converged in 2 iterations\n"
     ]
    }
   ],
   "source": [
    "w = learn_weights(x20, y20)"
   ]
  },
  {
   "cell_type": "code",
   "execution_count": null,
   "metadata": {},
   "outputs": [],
   "source": [
    "def plot(xn, yn, w):\n",
    "    # The x axis should be the x1 axis of the data\n",
    "    # The y axis should be the x2 axis of the data\n",
    "    # The marker should be different for +1 and -1 samples\n",
    "\n",
    "    plot_x = [x[1] for x in xn]\n",
    "    plot_y = [x[2] for x in xn]\n",
    "    plot_marker = get_plot_markers(yn)\n",
    "\n",
    "    # Plot the markers of the datapoints\n",
    "    fig, ax = plt.subplots()\n",
    "    for xp, yp, m in zip(plot_x, plot_y, plot_marker):\n",
    "        ax.scatter([xp],[yp], marker=m, color='b')\n",
    "\n",
    "    # Add the random line used to generate the target function (HINT: use SLOPE and INTERCEPT)\n",
    "    y = []\n",
    "    SLOPE = 0\n",
    "    INTERCEPT = 0\n",
    "    for i in range(len(plot_x)):\n",
    "        y.append(SLOPE*plot_x[i] + INTERCEPT)\n",
    "    plt.plot(plot_x, y)\n",
    "    \n",
    "    # Add the learned hypothesis\n",
    "    # To plot the hypothesis, we need to convert the weights w0, w1, w2 into a line\n",
    "    # HINT: you are looking for the line w0 + w1x1 + w2x2 = 0\n",
    "    y = []\n",
    "    for i in range(len(plot_x)):\n",
    "        SLOPE = -(w[0]/w[2])/(w[0]/w[1])\n",
    "        INTERCEPT = -w[0]/w[2]\n",
    "        y.append((-SLOPE*plot_x-INTERECPT)/plot_y)\n",
    "    plt.plot(plot_x, y)\n",
    "    \n",
    "\n",
    "    # Add axis labels and a legend\n",
    "    plt.xlabel('x1')\n",
    "    plt.xlabel('x2')\n",
    "    plt.legend()\n",
    "    plt.xlim(-MAX_VAL, MAX_VAL)\n",
    "    plt.ylim(-MAX_VAL, MAX_VAL)\n",
    "    plt.show()\n",
    "    \n",
    "plot(x20, y20, w)"
   ]
  },
  {
   "cell_type": "markdown",
   "metadata": {},
   "source": [
    "**5.** Generate another random dataset of 20 points, and repeat. Compare with the above results. "
   ]
  },
  {
   "cell_type": "code",
   "execution_count": null,
   "metadata": {},
   "outputs": [],
   "source": [
    "x20, y20= generate_data(20)\n",
    "w = learn_weights(x20, y20)\n",
    "\n",
    "plot(x20, y20, w)"
   ]
  },
  {
   "cell_type": "markdown",
   "metadata": {},
   "source": [
    "**6.** General a dataset of 1000 points and repeat. Compare with above results."
   ]
  },
  {
   "cell_type": "code",
   "execution_count": null,
   "metadata": {
    "tags": []
   },
   "outputs": [],
   "source": [
    "x1000, y1000= generate_data(1000)\n",
    "w = learn_weights(x1000, y1000)\n",
    "\n",
    "plot(x1000, y1000, w)"
   ]
  },
  {
   "cell_type": "markdown",
   "metadata": {},
   "source": [
    "What can you say about what happens when you increase the number of datapoints?"
   ]
  },
  {
   "cell_type": "markdown",
   "metadata": {},
   "source": [
    "*The accuracy of the seperation line gets more precise the more datapoints you have*"
   ]
  }
 ],
 "metadata": {
  "kernelspec": {
   "display_name": "Python 3 (ipykernel)",
   "language": "python",
   "name": "python3"
  },
  "language_info": {
   "codemirror_mode": {
    "name": "ipython",
    "version": 3
   },
   "file_extension": ".py",
   "mimetype": "text/x-python",
   "name": "python",
   "nbconvert_exporter": "python",
   "pygments_lexer": "ipython3",
   "version": "3.9.7"
  }
 },
 "nbformat": 4,
 "nbformat_minor": 4
}
